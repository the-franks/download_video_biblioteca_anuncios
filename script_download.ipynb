{
 "cells": [
  {
   "cell_type": "code",
   "execution_count": 6,
   "metadata": {},
   "outputs": [
    {
     "name": "stdout",
     "output_type": "stream",
     "text": [
      "Download concluído!\n"
     ]
    }
   ],
   "source": [
    "import requests\n",
    "\n",
    "url = \"LINK\" #cole o link do vídeo que quer fazer download\n",
    "\n",
    "response = requests.get(url)\n",
    "with open(\"video5.mp4\", \"wb\") as file:\n",
    "    file.write(response.content)\n",
    "\n",
    "print(\"Download concluído!\")\n"
   ]
  },
  {
   "cell_type": "code",
   "execution_count": null,
   "metadata": {},
   "outputs": [],
   "source": []
  }
 ],
 "metadata": {
  "kernelspec": {
   "display_name": "Python 3.11.5 ('base')",
   "language": "python",
   "name": "python3"
  },
  "language_info": {
   "codemirror_mode": {
    "name": "ipython",
    "version": 3
   },
   "file_extension": ".py",
   "mimetype": "text/x-python",
   "name": "python",
   "nbconvert_exporter": "python",
   "pygments_lexer": "ipython3",
   "version": "3.11.5"
  },
  "orig_nbformat": 4,
  "vscode": {
   "interpreter": {
    "hash": "cb66c4c4a0c293e066fcf171f649389e8c40afcea0eaf50c251ee92cf0af2826"
   }
  }
 },
 "nbformat": 4,
 "nbformat_minor": 2
}
